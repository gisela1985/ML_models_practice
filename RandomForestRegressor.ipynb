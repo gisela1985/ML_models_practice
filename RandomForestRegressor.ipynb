{
  "nbformat": 4,
  "nbformat_minor": 0,
  "metadata": {
    "colab": {
      "provenance": [],
      "authorship_tag": "ABX9TyPO3JuS/1+CajeuuQtJRWll",
      "include_colab_link": true
    },
    "kernelspec": {
      "name": "python3",
      "display_name": "Python 3"
    },
    "language_info": {
      "name": "python"
    }
  },
  "cells": [
    {
      "cell_type": "markdown",
      "metadata": {
        "id": "view-in-github",
        "colab_type": "text"
      },
      "source": [
        "<a href=\"https://colab.research.google.com/github/gisela1985/ML_models_practice/blob/main/RandomForestRegressor.ipynb\" target=\"_parent\"><img src=\"https://colab.research.google.com/assets/colab-badge.svg\" alt=\"Open In Colab\"/></a>"
      ]
    },
    {
      "cell_type": "markdown",
      "source": [
        "#Random Forest Regressor - Exercise\n",
        "data source: Kaggel"
      ],
      "metadata": {
        "id": "8cYFpjM8UZGG"
      }
    },
    {
      "cell_type": "markdown",
      "source": [
        "# Libraries"
      ],
      "metadata": {
        "id": "BciFqW0OUTp-"
      }
    },
    {
      "cell_type": "code",
      "source": [
        "#import libraries\n",
        "from google.colab import auth\n",
        "auth.authenticate_user()\n",
        "from oauth2client.client import GoogleCredentials\n",
        "import os\n",
        "import pandas as pd\n",
        "from sklearn.model_selection import train_test_split\n",
        "from sklearn.ensemble import RandomForestRegressor\n",
        "from sklearn.metrics import mean_absolute_error\n",
        "import matplotlib.pyplot as plt\n",
        "from matplotlib.ticker import MaxNLocator"
      ],
      "metadata": {
        "id": "1npGb0DL4XQS"
      },
      "execution_count": null,
      "outputs": []
    },
    {
      "cell_type": "code",
      "source": [
        "from google.colab import drive\n",
        "drive.mount('/content/drive', force_remount=True)"
      ],
      "metadata": {
        "colab": {
          "base_uri": "https://localhost:8080/"
        },
        "id": "C4ves5_74MKG",
        "outputId": "09739bb0-8aff-48fa-eaec-e970944d07fc"
      },
      "execution_count": null,
      "outputs": [
        {
          "output_type": "stream",
          "name": "stdout",
          "text": [
            "Mounted at /content/drive\n"
          ]
        }
      ]
    },
    {
      "cell_type": "markdown",
      "source": [
        "# Goal"
      ],
      "metadata": {
        "id": "ebqQIL6LXZ1m"
      }
    },
    {
      "cell_type": "code",
      "source": [
        "# The goal is to predict the price of real estate using the following features:\n",
        "# LotArea, YearBuilt, 1stFlrSF, 2ndFlrSF, FullBath, BedroomAbvGr, and TotRmsAbvGrd."
      ],
      "metadata": {
        "id": "VolvTPpkXbO0"
      },
      "execution_count": null,
      "outputs": []
    },
    {
      "cell_type": "markdown",
      "source": [
        "# Import data"
      ],
      "metadata": {
        "id": "LEKhcqODVdHT"
      }
    },
    {
      "cell_type": "markdown",
      "source": [],
      "metadata": {
        "id": "ET8ER7AM6LWy"
      }
    },
    {
      "cell_type": "code",
      "source": [
        "#define the path where the datasets are\n",
        "drive_data_path = '/content/drive/MyDrive/ML - Kaggle practice/Data/'"
      ],
      "metadata": {
        "id": "O8y0YqkL3-sJ"
      },
      "execution_count": null,
      "outputs": []
    },
    {
      "cell_type": "code",
      "source": [
        "# Read the data\n",
        "X_full = pd.read_csv(drive_data_path+'train.csv', index_col='Id')\n",
        "X_test_full = pd.read_csv(drive_data_path+'test.csv', index_col='Id')\n",
        "\n",
        "# Obtain target and predictors\n",
        "y = X_full.SalePrice\n",
        "\n",
        "#reduce el scope to this features\n",
        "features = ['LotArea', 'YearBuilt', '1stFlrSF', '2ndFlrSF', 'FullBath', 'BedroomAbvGr', 'TotRmsAbvGrd']\n",
        "X = X_full[features].copy()\n",
        "X_test = X_test_full[features].copy()"
      ],
      "metadata": {
        "id": "uv1y_eIx1YY4"
      },
      "execution_count": null,
      "outputs": []
    },
    {
      "cell_type": "markdown",
      "source": [
        "# EDA"
      ],
      "metadata": {
        "id": "aVL8g1IVWrNc"
      }
    },
    {
      "cell_type": "code",
      "source": [
        "#classify columns into categorical and quantitative variables\n",
        "#define the function\n",
        "def check_variables(df: pd.DataFrame):\n",
        "    cols = df.columns\n",
        "    quantitative_cols = df._get_numeric_data().columns\n",
        "    categorical_cols = list(set(cols) - set(quantitative_cols))\n",
        "    return categorical_cols, list(set(quantitative_cols))"
      ],
      "metadata": {
        "id": "1lNF-Fa0Wt2r"
      },
      "execution_count": null,
      "outputs": []
    },
    {
      "cell_type": "code",
      "source": [
        "#call the function and the save the result into a variable\n",
        "\n",
        "X_fatures_and_target = X_full[features + ['SalePrice']].copy()\n",
        "\n",
        "\n",
        "df = X_fatures_and_target\n",
        "cat_cols, quan_cols = check_variables(df)\n",
        "print(f'categorical columns: {cat_cols}')\n",
        "print(f'quantitative columns: {quan_cols}')"
      ],
      "metadata": {
        "colab": {
          "base_uri": "https://localhost:8080/"
        },
        "id": "boCKlVd7aLXC",
        "outputId": "a090c4ba-69b9-4888-b71b-aba647e07f62"
      },
      "execution_count": null,
      "outputs": [
        {
          "output_type": "stream",
          "name": "stdout",
          "text": [
            "categorical columns: []\n",
            "quantitative columns: ['BedroomAbvGr', '2ndFlrSF', 'SalePrice', 'FullBath', 'LotArea', 'TotRmsAbvGrd', '1stFlrSF', 'YearBuilt']\n"
          ]
        }
      ]
    },
    {
      "cell_type": "markdown",
      "source": [
        "## Functions\n"
      ],
      "metadata": {
        "id": "FLjkgRKvhHeE"
      }
    },
    {
      "cell_type": "code",
      "source": [
        "def summarize_by_category(df, category_col, target_col):\n",
        "    \"\"\"\n",
        "    Summarize a categorical variable with counts, percentages,\n",
        "    and the average of a target numeric variable.\n",
        "\n",
        "    Parameters:\n",
        "    - df: pandas DataFrame\n",
        "    - category_col: str, name of the categorical column (e.g. 'FullBath')\n",
        "    - target_col: str, name of the numeric target column (e.g. 'SalePrice')\n",
        "\n",
        "    Returns:\n",
        "    - DataFrame with category, count, percentage, and average target value\n",
        "    \"\"\"\n",
        "\n",
        "    # Count and percentage\n",
        "    summary_df = df[category_col].value_counts().reset_index()\n",
        "    summary_df.columns = [category_col, 'Count']\n",
        "    summary_df['percentage'] = round(100 * summary_df['Count'] / summary_df['Count'].sum(), 2)\n",
        "\n",
        "    # Average of target variable\n",
        "    avg_target = df.groupby(category_col)[target_col].mean().reset_index()\n",
        "    avg_target.columns = [category_col, f'Avg_{target_col}']\n",
        "\n",
        "    # Merge summaries\n",
        "    summary_df = summary_df.merge(avg_target, on=category_col)\n",
        "    summary_df[f'Avg_{target_col}'] = summary_df[f'Avg_{target_col}'].round(2)\n",
        "\n",
        "    return summary_df\n"
      ],
      "metadata": {
        "id": "0JIwW9DmglgA"
      },
      "execution_count": null,
      "outputs": []
    },
    {
      "cell_type": "code",
      "source": [
        "def plot_horizontal_bar(\n",
        "    df, x_col, y_col,\n",
        "    xlabel='', ylabel='', title='',\n",
        "    bar_color='mediumseagreen',\n",
        "    value_suffix='%',  # suffix to show next to bar values, e.g. '%', '', '$'\n",
        "    value_offset=0.5,  # horizontal offset for values from the bar end\n",
        "    figsize=(8,6)\n",
        "):\n",
        "    \"\"\"\n",
        "    Plot a horizontal bar chart with values annotated on bars and integer y-axis ticks.\n",
        "\n",
        "    Parameters:\n",
        "    - df: DataFrame containing the data\n",
        "    - x_col: column name for y-axis categories (bars)\n",
        "    - y_col: column name for x-axis values (bar lengths)\n",
        "    - xlabel, ylabel, title: axis labels and title\n",
        "    - bar_color: color of the bars\n",
        "    - value_suffix: suffix to add to annotated values\n",
        "    - value_offset: horizontal distance between bar end and value text\n",
        "    - figsize: tuple with figure size\n",
        "    \"\"\"\n",
        "\n",
        "    plt.figure(figsize=figsize)\n",
        "    bars = plt.barh(df[x_col], df[y_col], color=bar_color)\n",
        "\n",
        "    plt.xlabel(xlabel)\n",
        "    plt.ylabel(ylabel)\n",
        "    plt.title(title)\n",
        "    plt.grid(axis='x', linestyle='--', alpha=0.6)\n",
        "\n",
        "    # Force y-axis to show integer ticks if y-axis values are numeric\n",
        "    ax = plt.gca()\n",
        "    ax.yaxis.set_major_locator(MaxNLocator(integer=True))\n",
        "\n",
        "    # Add values on bars\n",
        "    for bar in bars:\n",
        "        width = bar.get_width()\n",
        "        plt.text(width + value_offset,\n",
        "                 bar.get_y() + bar.get_height() / 2,\n",
        "                 f'{width:.2f}{value_suffix}',\n",
        "                 va='center')\n",
        "\n",
        "    plt.tight_layout()\n",
        "    plt.show()"
      ],
      "metadata": {
        "id": "WyB8j1UFg0m6"
      },
      "execution_count": null,
      "outputs": []
    },
    {
      "cell_type": "code",
      "source": [
        "def scater_plot_variables(df, var1, var2):\n",
        "  plt.figure(figsize=(8, 6))\n",
        "  plt.scatter(df[var1], df[var2], color='tomato', s=80)\n",
        "\n",
        "  plt.xlabel(var1)\n",
        "  plt.ylabel(var2)\n",
        "  plt.title('Sale Price by Number of Full Bathrooms')\n",
        "  plt.grid(True, linestyle='--', alpha=0.6)\n",
        "\n",
        "  plt.tight_layout()\n",
        "  plt.show()"
      ],
      "metadata": {
        "id": "LU1R-8wgeZEg"
      },
      "execution_count": null,
      "outputs": []
    },
    {
      "cell_type": "markdown",
      "source": [
        "## FullBath"
      ],
      "metadata": {
        "id": "EM2cekVViK76"
      }
    },
    {
      "cell_type": "code",
      "source": [
        "var_to_analyze = 'FullBath'\n",
        "target = 'SalePrice'\n",
        "\n",
        "df_variable = summarize_by_category(df, var_to_analyze, target)\n",
        "display(df_variable)\n",
        "\n",
        "plot_horizontal_bar(\n",
        "    df=df_variable,\n",
        "    x_col=var_to_analyze,\n",
        "    y_col='percentage',\n",
        "    xlabel='Percentage (%)',\n",
        "    ylabel='Number of Full Bathrooms',\n",
        "    title='Percentage of Homes by FullBath Count',\n",
        "    bar_color='mediumseagreen',\n",
        "    value_suffix='%',\n",
        "    value_offset=0.5\n",
        ")\n",
        "\n",
        "variables = [var_to_analyze, 'Avg_SalePrice']\n",
        "scater_plot_variables(df_variable, variables[0], variables[1])\n",
        "\n",
        "variables = [var_to_analyze, target]\n",
        "scater_plot_variables(df, variables[0], variables[1])"
      ],
      "metadata": {
        "colab": {
          "base_uri": "https://localhost:8080/",
          "height": 1000
        },
        "id": "DrD96fspiK76",
        "outputId": "72d47666-7380-4f03-a602-e5d6358484a6"
      },
      "execution_count": null,
      "outputs": [
        {
          "output_type": "display_data",
          "data": {
            "text/plain": [
              "   FullBath  Count  percentage  Avg_SalePrice\n",
              "0         2    768       52.60      213009.83\n",
              "1         1    650       44.52      134751.44\n",
              "2         3     33        2.26      347822.91\n",
              "3         0      9        0.62      165200.89"
            ],
            "text/html": [
              "\n",
              "  <div id=\"df-60cc3650-58e0-46d1-a042-e70ceaef7143\" class=\"colab-df-container\">\n",
              "    <div>\n",
              "<style scoped>\n",
              "    .dataframe tbody tr th:only-of-type {\n",
              "        vertical-align: middle;\n",
              "    }\n",
              "\n",
              "    .dataframe tbody tr th {\n",
              "        vertical-align: top;\n",
              "    }\n",
              "\n",
              "    .dataframe thead th {\n",
              "        text-align: right;\n",
              "    }\n",
              "</style>\n",
              "<table border=\"1\" class=\"dataframe\">\n",
              "  <thead>\n",
              "    <tr style=\"text-align: right;\">\n",
              "      <th></th>\n",
              "      <th>FullBath</th>\n",
              "      <th>Count</th>\n",
              "      <th>percentage</th>\n",
              "      <th>Avg_SalePrice</th>\n",
              "    </tr>\n",
              "  </thead>\n",
              "  <tbody>\n",
              "    <tr>\n",
              "      <th>0</th>\n",
              "      <td>2</td>\n",
              "      <td>768</td>\n",
              "      <td>52.60</td>\n",
              "      <td>213009.83</td>\n",
              "    </tr>\n",
              "    <tr>\n",
              "      <th>1</th>\n",
              "      <td>1</td>\n",
              "      <td>650</td>\n",
              "      <td>44.52</td>\n",
              "      <td>134751.44</td>\n",
              "    </tr>\n",
              "    <tr>\n",
              "      <th>2</th>\n",
              "      <td>3</td>\n",
              "      <td>33</td>\n",
              "      <td>2.26</td>\n",
              "      <td>347822.91</td>\n",
              "    </tr>\n",
              "    <tr>\n",
              "      <th>3</th>\n",
              "      <td>0</td>\n",
              "      <td>9</td>\n",
              "      <td>0.62</td>\n",
              "      <td>165200.89</td>\n",
              "    </tr>\n",
              "  </tbody>\n",
              "</table>\n",
              "</div>\n",
              "    <div class=\"colab-df-buttons\">\n",
              "\n",
              "  <div class=\"colab-df-container\">\n",
              "    <button class=\"colab-df-convert\" onclick=\"convertToInteractive('df-60cc3650-58e0-46d1-a042-e70ceaef7143')\"\n",
              "            title=\"Convert this dataframe to an interactive table.\"\n",
              "            style=\"display:none;\">\n",
              "\n",
              "  <svg xmlns=\"http://www.w3.org/2000/svg\" height=\"24px\" viewBox=\"0 -960 960 960\">\n",
              "    <path d=\"M120-120v-720h720v720H120Zm60-500h600v-160H180v160Zm220 220h160v-160H400v160Zm0 220h160v-160H400v160ZM180-400h160v-160H180v160Zm440 0h160v-160H620v160ZM180-180h160v-160H180v160Zm440 0h160v-160H620v160Z\"/>\n",
              "  </svg>\n",
              "    </button>\n",
              "\n",
              "  <style>\n",
              "    .colab-df-container {\n",
              "      display:flex;\n",
              "      gap: 12px;\n",
              "    }\n",
              "\n",
              "    .colab-df-convert {\n",
              "      background-color: #E8F0FE;\n",
              "      border: none;\n",
              "      border-radius: 50%;\n",
              "      cursor: pointer;\n",
              "      display: none;\n",
              "      fill: #1967D2;\n",
              "      height: 32px;\n",
              "      padding: 0 0 0 0;\n",
              "      width: 32px;\n",
              "    }\n",
              "\n",
              "    .colab-df-convert:hover {\n",
              "      background-color: #E2EBFA;\n",
              "      box-shadow: 0px 1px 2px rgba(60, 64, 67, 0.3), 0px 1px 3px 1px rgba(60, 64, 67, 0.15);\n",
              "      fill: #174EA6;\n",
              "    }\n",
              "\n",
              "    .colab-df-buttons div {\n",
              "      margin-bottom: 4px;\n",
              "    }\n",
              "\n",
              "    [theme=dark] .colab-df-convert {\n",
              "      background-color: #3B4455;\n",
              "      fill: #D2E3FC;\n",
              "    }\n",
              "\n",
              "    [theme=dark] .colab-df-convert:hover {\n",
              "      background-color: #434B5C;\n",
              "      box-shadow: 0px 1px 3px 1px rgba(0, 0, 0, 0.15);\n",
              "      filter: drop-shadow(0px 1px 2px rgba(0, 0, 0, 0.3));\n",
              "      fill: #FFFFFF;\n",
              "    }\n",
              "  </style>\n",
              "\n",
              "    <script>\n",
              "      const buttonEl =\n",
              "        document.querySelector('#df-60cc3650-58e0-46d1-a042-e70ceaef7143 button.colab-df-convert');\n",
              "      buttonEl.style.display =\n",
              "        google.colab.kernel.accessAllowed ? 'block' : 'none';\n",
              "\n",
              "      async function convertToInteractive(key) {\n",
              "        const element = document.querySelector('#df-60cc3650-58e0-46d1-a042-e70ceaef7143');\n",
              "        const dataTable =\n",
              "          await google.colab.kernel.invokeFunction('convertToInteractive',\n",
              "                                                    [key], {});\n",
              "        if (!dataTable) return;\n",
              "\n",
              "        const docLinkHtml = 'Like what you see? Visit the ' +\n",
              "          '<a target=\"_blank\" href=https://colab.research.google.com/notebooks/data_table.ipynb>data table notebook</a>'\n",
              "          + ' to learn more about interactive tables.';\n",
              "        element.innerHTML = '';\n",
              "        dataTable['output_type'] = 'display_data';\n",
              "        await google.colab.output.renderOutput(dataTable, element);\n",
              "        const docLink = document.createElement('div');\n",
              "        docLink.innerHTML = docLinkHtml;\n",
              "        element.appendChild(docLink);\n",
              "      }\n",
              "    </script>\n",
              "  </div>\n",
              "\n",
              "\n",
              "    <div id=\"df-b05b5da6-e369-4a76-97da-ee7d4a2817d7\">\n",
              "      <button class=\"colab-df-quickchart\" onclick=\"quickchart('df-b05b5da6-e369-4a76-97da-ee7d4a2817d7')\"\n",
              "                title=\"Suggest charts\"\n",
              "                style=\"display:none;\">\n",
              "\n",
              "<svg xmlns=\"http://www.w3.org/2000/svg\" height=\"24px\"viewBox=\"0 0 24 24\"\n",
              "     width=\"24px\">\n",
              "    <g>\n",
              "        <path d=\"M19 3H5c-1.1 0-2 .9-2 2v14c0 1.1.9 2 2 2h14c1.1 0 2-.9 2-2V5c0-1.1-.9-2-2-2zM9 17H7v-7h2v7zm4 0h-2V7h2v10zm4 0h-2v-4h2v4z\"/>\n",
              "    </g>\n",
              "</svg>\n",
              "      </button>\n",
              "\n",
              "<style>\n",
              "  .colab-df-quickchart {\n",
              "      --bg-color: #E8F0FE;\n",
              "      --fill-color: #1967D2;\n",
              "      --hover-bg-color: #E2EBFA;\n",
              "      --hover-fill-color: #174EA6;\n",
              "      --disabled-fill-color: #AAA;\n",
              "      --disabled-bg-color: #DDD;\n",
              "  }\n",
              "\n",
              "  [theme=dark] .colab-df-quickchart {\n",
              "      --bg-color: #3B4455;\n",
              "      --fill-color: #D2E3FC;\n",
              "      --hover-bg-color: #434B5C;\n",
              "      --hover-fill-color: #FFFFFF;\n",
              "      --disabled-bg-color: #3B4455;\n",
              "      --disabled-fill-color: #666;\n",
              "  }\n",
              "\n",
              "  .colab-df-quickchart {\n",
              "    background-color: var(--bg-color);\n",
              "    border: none;\n",
              "    border-radius: 50%;\n",
              "    cursor: pointer;\n",
              "    display: none;\n",
              "    fill: var(--fill-color);\n",
              "    height: 32px;\n",
              "    padding: 0;\n",
              "    width: 32px;\n",
              "  }\n",
              "\n",
              "  .colab-df-quickchart:hover {\n",
              "    background-color: var(--hover-bg-color);\n",
              "    box-shadow: 0 1px 2px rgba(60, 64, 67, 0.3), 0 1px 3px 1px rgba(60, 64, 67, 0.15);\n",
              "    fill: var(--button-hover-fill-color);\n",
              "  }\n",
              "\n",
              "  .colab-df-quickchart-complete:disabled,\n",
              "  .colab-df-quickchart-complete:disabled:hover {\n",
              "    background-color: var(--disabled-bg-color);\n",
              "    fill: var(--disabled-fill-color);\n",
              "    box-shadow: none;\n",
              "  }\n",
              "\n",
              "  .colab-df-spinner {\n",
              "    border: 2px solid var(--fill-color);\n",
              "    border-color: transparent;\n",
              "    border-bottom-color: var(--fill-color);\n",
              "    animation:\n",
              "      spin 1s steps(1) infinite;\n",
              "  }\n",
              "\n",
              "  @keyframes spin {\n",
              "    0% {\n",
              "      border-color: transparent;\n",
              "      border-bottom-color: var(--fill-color);\n",
              "      border-left-color: var(--fill-color);\n",
              "    }\n",
              "    20% {\n",
              "      border-color: transparent;\n",
              "      border-left-color: var(--fill-color);\n",
              "      border-top-color: var(--fill-color);\n",
              "    }\n",
              "    30% {\n",
              "      border-color: transparent;\n",
              "      border-left-color: var(--fill-color);\n",
              "      border-top-color: var(--fill-color);\n",
              "      border-right-color: var(--fill-color);\n",
              "    }\n",
              "    40% {\n",
              "      border-color: transparent;\n",
              "      border-right-color: var(--fill-color);\n",
              "      border-top-color: var(--fill-color);\n",
              "    }\n",
              "    60% {\n",
              "      border-color: transparent;\n",
              "      border-right-color: var(--fill-color);\n",
              "    }\n",
              "    80% {\n",
              "      border-color: transparent;\n",
              "      border-right-color: var(--fill-color);\n",
              "      border-bottom-color: var(--fill-color);\n",
              "    }\n",
              "    90% {\n",
              "      border-color: transparent;\n",
              "      border-bottom-color: var(--fill-color);\n",
              "    }\n",
              "  }\n",
              "</style>\n",
              "\n",
              "      <script>\n",
              "        async function quickchart(key) {\n",
              "          const quickchartButtonEl =\n",
              "            document.querySelector('#' + key + ' button');\n",
              "          quickchartButtonEl.disabled = true;  // To prevent multiple clicks.\n",
              "          quickchartButtonEl.classList.add('colab-df-spinner');\n",
              "          try {\n",
              "            const charts = await google.colab.kernel.invokeFunction(\n",
              "                'suggestCharts', [key], {});\n",
              "          } catch (error) {\n",
              "            console.error('Error during call to suggestCharts:', error);\n",
              "          }\n",
              "          quickchartButtonEl.classList.remove('colab-df-spinner');\n",
              "          quickchartButtonEl.classList.add('colab-df-quickchart-complete');\n",
              "        }\n",
              "        (() => {\n",
              "          let quickchartButtonEl =\n",
              "            document.querySelector('#df-b05b5da6-e369-4a76-97da-ee7d4a2817d7 button');\n",
              "          quickchartButtonEl.style.display =\n",
              "            google.colab.kernel.accessAllowed ? 'block' : 'none';\n",
              "        })();\n",
              "      </script>\n",
              "    </div>\n",
              "\n",
              "  <div id=\"id_83c6f08a-cb55-4ed1-befd-8cada4f2870f\">\n",
              "    <style>\n",
              "      .colab-df-generate {\n",
              "        background-color: #E8F0FE;\n",
              "        border: none;\n",
              "        border-radius: 50%;\n",
              "        cursor: pointer;\n",
              "        display: none;\n",
              "        fill: #1967D2;\n",
              "        height: 32px;\n",
              "        padding: 0 0 0 0;\n",
              "        width: 32px;\n",
              "      }\n",
              "\n",
              "      .colab-df-generate:hover {\n",
              "        background-color: #E2EBFA;\n",
              "        box-shadow: 0px 1px 2px rgba(60, 64, 67, 0.3), 0px 1px 3px 1px rgba(60, 64, 67, 0.15);\n",
              "        fill: #174EA6;\n",
              "      }\n",
              "\n",
              "      [theme=dark] .colab-df-generate {\n",
              "        background-color: #3B4455;\n",
              "        fill: #D2E3FC;\n",
              "      }\n",
              "\n",
              "      [theme=dark] .colab-df-generate:hover {\n",
              "        background-color: #434B5C;\n",
              "        box-shadow: 0px 1px 3px 1px rgba(0, 0, 0, 0.15);\n",
              "        filter: drop-shadow(0px 1px 2px rgba(0, 0, 0, 0.3));\n",
              "        fill: #FFFFFF;\n",
              "      }\n",
              "    </style>\n",
              "    <button class=\"colab-df-generate\" onclick=\"generateWithVariable('df_variable')\"\n",
              "            title=\"Generate code using this dataframe.\"\n",
              "            style=\"display:none;\">\n",
              "\n",
              "  <svg xmlns=\"http://www.w3.org/2000/svg\" height=\"24px\"viewBox=\"0 0 24 24\"\n",
              "       width=\"24px\">\n",
              "    <path d=\"M7,19H8.4L18.45,9,17,7.55,7,17.6ZM5,21V16.75L18.45,3.32a2,2,0,0,1,2.83,0l1.4,1.43a1.91,1.91,0,0,1,.58,1.4,1.91,1.91,0,0,1-.58,1.4L9.25,21ZM18.45,9,17,7.55Zm-12,3A5.31,5.31,0,0,0,4.9,8.1,5.31,5.31,0,0,0,1,6.5,5.31,5.31,0,0,0,4.9,4.9,5.31,5.31,0,0,0,6.5,1,5.31,5.31,0,0,0,8.1,4.9,5.31,5.31,0,0,0,12,6.5,5.46,5.46,0,0,0,6.5,12Z\"/>\n",
              "  </svg>\n",
              "    </button>\n",
              "    <script>\n",
              "      (() => {\n",
              "      const buttonEl =\n",
              "        document.querySelector('#id_83c6f08a-cb55-4ed1-befd-8cada4f2870f button.colab-df-generate');\n",
              "      buttonEl.style.display =\n",
              "        google.colab.kernel.accessAllowed ? 'block' : 'none';\n",
              "\n",
              "      buttonEl.onclick = () => {\n",
              "        google.colab.notebook.generateWithVariable('df_variable');\n",
              "      }\n",
              "      })();\n",
              "    </script>\n",
              "  </div>\n",
              "\n",
              "    </div>\n",
              "  </div>\n"
            ],
            "application/vnd.google.colaboratory.intrinsic+json": {
              "type": "dataframe",
              "variable_name": "df_variable",
              "summary": "{\n  \"name\": \"df_variable\",\n  \"rows\": 4,\n  \"fields\": [\n    {\n      \"column\": \"FullBath\",\n      \"properties\": {\n        \"dtype\": \"number\",\n        \"std\": 1,\n        \"min\": 0,\n        \"max\": 3,\n        \"num_unique_values\": 4,\n        \"samples\": [\n          1,\n          0,\n          2\n        ],\n        \"semantic_type\": \"\",\n        \"description\": \"\"\n      }\n    },\n    {\n      \"column\": \"Count\",\n      \"properties\": {\n        \"dtype\": \"number\",\n        \"std\": 400,\n        \"min\": 9,\n        \"max\": 768,\n        \"num_unique_values\": 4,\n        \"samples\": [\n          650,\n          9,\n          768\n        ],\n        \"semantic_type\": \"\",\n        \"description\": \"\"\n      }\n    },\n    {\n      \"column\": \"percentage\",\n      \"properties\": {\n        \"dtype\": \"number\",\n        \"std\": 27.412177342682334,\n        \"min\": 0.62,\n        \"max\": 52.6,\n        \"num_unique_values\": 4,\n        \"samples\": [\n          44.52,\n          0.62,\n          52.6\n        ],\n        \"semantic_type\": \"\",\n        \"description\": \"\"\n      }\n    },\n    {\n      \"column\": \"Avg_SalePrice\",\n      \"properties\": {\n        \"dtype\": \"number\",\n        \"std\": 94101.921433866,\n        \"min\": 134751.44,\n        \"max\": 347822.91,\n        \"num_unique_values\": 4,\n        \"samples\": [\n          134751.44,\n          165200.89,\n          213009.83\n        ],\n        \"semantic_type\": \"\",\n        \"description\": \"\"\n      }\n    }\n  ]\n}"
            }
          },
          "metadata": {}
        },
        {
          "output_type": "display_data",
          "data": {
            "text/plain": [
              "<Figure size 800x600 with 1 Axes>"
            ],
            "image/png": "[encoded data removed]"
          },
          "metadata": {}
        },
        {
          "output_type": "display_data",
          "data": {
            "text/plain": [
              "<Figure size 800x600 with 1 Axes>"
            ],
            "image/png": "[encoded data removed]"
          },
          "metadata": {}
        },
        {
          "output_type": "display_data",
          "data": {
            "text/plain": [
              "<Figure size 800x600 with 1 Axes>"
            ],
            "image/png": "[encoded data removed]"
          },
          "metadata": {}
        }
      ]
    },
    {
      "cell_type": "markdown",
      "source": [
        "# Model"
      ],
      "metadata": {
        "id": "iOZ_nc_RWu97"
      }
    },
    {
      "cell_type": "code",
      "source": [
        "# split the data with randomization\n",
        "X_train, X_test, y_train, y_test = train_test_split(\n",
        "    X, y,\n",
        "    train_size=0.8,\n",
        "    test_size=0.2,\n",
        "    shuffle=True,\n",
        "    random_state=42  # set a seed for reproducibility\n",
        ")"
      ],
      "metadata": {
        "id": "flcr1vFcYpCX"
      },
      "execution_count": null,
      "outputs": []
    },
    {
      "cell_type": "code",
      "source": [
        "#show the head of train and test data\n",
        "print(\"Data Train\")\n",
        "display(X_train.head())\n",
        "print(\"Data Test\")\n",
        "display(X_test.head())"
      ],
      "metadata": {
        "id": "AGHrBcmO_JDU"
      },
      "execution_count": null,
      "outputs": []
    },
    {
      "cell_type": "code",
      "source": [
        "#show the head of train and test data\n",
        "print(\"Data Train\")\n",
        "display(y_train.head())\n",
        "print(\"Data Test\")\n",
        "display(y_test.head())"
      ],
      "metadata": {
        "id": "Qa_BOx5CXH5K"
      },
      "execution_count": null,
      "outputs": []
    },
    {
      "cell_type": "code",
      "source": [
        "#show the shape of the data\n",
        "print(\"Data Train - shape\")\n",
        "display(X_train.shape)\n",
        "print(\"Data Test - shape\")\n",
        "display(X_test.shape)"
      ],
      "metadata": {
        "id": "gm5242ZRWYoK"
      },
      "execution_count": null,
      "outputs": []
    },
    {
      "cell_type": "code",
      "source": [
        "# Define the models\n",
        "model_1 = RandomForestRegressor(n_estimators=50, random_state=0)\n",
        "model_2 = RandomForestRegressor(n_estimators=100, random_state=0)\n",
        "model_3 = RandomForestRegressor(n_estimators=100, criterion='absolute_error', random_state=0)\n",
        "model_4 = RandomForestRegressor(n_estimators=200, min_samples_split=20, random_state=0)\n",
        "model_5 = RandomForestRegressor(n_estimators=100, max_depth=7, random_state=0)\n",
        "\n",
        "models = [model_1, model_2, model_3, model_4, model_5]"
      ],
      "metadata": {
        "id": "6TR07UuJ_Kru"
      },
      "execution_count": null,
      "outputs": []
    },
    {
      "cell_type": "markdown",
      "source": [
        "# Model evaluation"
      ],
      "metadata": {
        "id": "K2b4wkczW7b1"
      }
    },
    {
      "cell_type": "code",
      "source": [
        "# Function for comparing different models\n",
        "def score_model(model, X_t=X_train, X_v=X_valid, y_t=y_train, y_v=y_valid):\n",
        "    model.fit(X_t, y_t)\n",
        "    preds = model.predict(X_v)\n",
        "    return mean_absolute_error(y_v, preds)\n",
        "\n",
        "for i in range(0, len(models)):\n",
        "    mae = score_model(models[i])\n",
        "    print(\"Model %d MAE: %d\" % (i+1, mae))"
      ],
      "metadata": {
        "id": "E1DTKWSZ_jzs"
      },
      "execution_count": null,
      "outputs": []
    },
    {
      "cell_type": "code",
      "source": [
        "# Fit the model to the training data\n",
        "my_model = model_3\n",
        "my_model.fit(X, y)\n",
        "\n",
        "# Generate test predictions\n",
        "preds_test = my_model.predict(X_test)\n",
        "\n",
        "# Save predictions in format used for competition scoring\n",
        "output = pd.DataFrame({'Id': X_test.index,\n",
        "                       'SalePrice': preds_test})\n",
        "output.to_csv('submission.csv', index=False)"
      ],
      "metadata": {
        "id": "vyXzX2q-AHFQ"
      },
      "execution_count": null,
      "outputs": []
    }
  ]
}